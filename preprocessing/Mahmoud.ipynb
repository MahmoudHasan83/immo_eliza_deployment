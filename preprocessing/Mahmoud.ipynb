{
 "cells": [
  {
   "cell_type": "code",
   "execution_count": 3,
   "id": "79488453",
   "metadata": {},
   "outputs": [],
   "source": [
    "import pandas as pd\n",
    "from joblib import dump, load\n"
   ]
  },
  {
   "cell_type": "code",
   "execution_count": 4,
   "id": "6f271469",
   "metadata": {},
   "outputs": [],
   "source": [
    "df = pd.read_csv('../testing.csv')"
   ]
  },
  {
   "cell_type": "code",
   "execution_count": 5,
   "id": "aaa89920",
   "metadata": {},
   "outputs": [
    {
     "data": {
      "text/html": [
       "<div>\n",
       "<style scoped>\n",
       "    .dataframe tbody tr th:only-of-type {\n",
       "        vertical-align: middle;\n",
       "    }\n",
       "\n",
       "    .dataframe tbody tr th {\n",
       "        vertical-align: top;\n",
       "    }\n",
       "\n",
       "    .dataframe thead th {\n",
       "        text-align: right;\n",
       "    }\n",
       "</style>\n",
       "<table border=\"1\" class=\"dataframe\">\n",
       "  <thead>\n",
       "    <tr style=\"text-align: right;\">\n",
       "      <th></th>\n",
       "      <th>Type of Property</th>\n",
       "      <th>Subtype of Property</th>\n",
       "      <th>Bedrooms</th>\n",
       "      <th>Living area (m²)</th>\n",
       "      <th>Kitchen type</th>\n",
       "      <th>How many fireplaces?</th>\n",
       "      <th>Terrace</th>\n",
       "      <th>Terrace surface (m²)</th>\n",
       "      <th>Garden</th>\n",
       "      <th>Garden surface (m²)</th>\n",
       "      <th>Surface of the plot (m²)</th>\n",
       "      <th>Number of frontages</th>\n",
       "      <th>Swimming pool</th>\n",
       "      <th>Building condition</th>\n",
       "      <th>Basement</th>\n",
       "      <th>Energy class</th>\n",
       "      <th>Heating type</th>\n",
       "      <th>Kitchen type scale</th>\n",
       "      <th>Building condition scale</th>\n",
       "      <th>Region</th>\n",
       "    </tr>\n",
       "  </thead>\n",
       "  <tbody>\n",
       "    <tr>\n",
       "      <th>0</th>\n",
       "      <td>apartment</td>\n",
       "      <td>other property</td>\n",
       "      <td>2</td>\n",
       "      <td>50</td>\n",
       "      <td>USA hyper equipped</td>\n",
       "      <td>1</td>\n",
       "      <td>0</td>\n",
       "      <td>50</td>\n",
       "      <td>0</td>\n",
       "      <td>150</td>\n",
       "      <td>0</td>\n",
       "      <td>0</td>\n",
       "      <td>0</td>\n",
       "      <td>As new</td>\n",
       "      <td>0</td>\n",
       "      <td>Empty</td>\n",
       "      <td>Empty</td>\n",
       "      <td>3</td>\n",
       "      <td>6</td>\n",
       "      <td>Flander</td>\n",
       "    </tr>\n",
       "  </tbody>\n",
       "</table>\n",
       "</div>"
      ],
      "text/plain": [
       "  Type of Property Subtype of Property  Bedrooms  Living area (m²)  \\\n",
       "0        apartment      other property         2                50   \n",
       "\n",
       "         Kitchen type  How many fireplaces?  Terrace  Terrace surface (m²)  \\\n",
       "0  USA hyper equipped                     1        0                    50   \n",
       "\n",
       "   Garden  Garden surface (m²)  Surface of the plot (m²)  Number of frontages  \\\n",
       "0       0                  150                         0                    0   \n",
       "\n",
       "   Swimming pool Building condition  Basement Energy class Heating type  \\\n",
       "0              0             As new         0        Empty        Empty   \n",
       "\n",
       "   Kitchen type scale  Building condition scale   Region  \n",
       "0                   3                         6  Flander  "
      ]
     },
     "execution_count": 5,
     "metadata": {},
     "output_type": "execute_result"
    }
   ],
   "source": [
    "df"
   ]
  },
  {
   "cell_type": "code",
   "execution_count": null,
   "id": "b99bb24b",
   "metadata": {},
   "outputs": [],
   "source": []
  },
  {
   "cell_type": "code",
   "execution_count": 6,
   "id": "286280ec",
   "metadata": {},
   "outputs": [],
   "source": [
    "df = df.astype({\"Living area (m²)\":\"float\", \"Terrace\":\"float\", \"Garden\":\"float\",\n",
    "                \"Terrace surface (m²)\":\"float\",\n",
    "                \"Garden surface (m²)\":\"float\",\"Surface of the plot (m²)\":\"float\",\n",
    "                \"Bedrooms\":\"float\",\"How many fireplaces?\":\"float\",\n",
    "                \"Subtype of Property\":\"object\",\"Kitchen type\":\"object\", \n",
    "                \"Building condition\":\"object\",\"Energy class\":\"object\",\"Heating type\":\"object\",\n",
    "                 \"Number of frontages\":\"float\",\"Kitchen type scale\":\"float\",\n",
    "                 \"Building condition scale\":\"float\",\"Region\":\"object\"})"
   ]
  },
  {
   "cell_type": "code",
   "execution_count": 7,
   "id": "a3b4b023",
   "metadata": {},
   "outputs": [
    {
     "data": {
      "text/plain": [
       "Type of Property             object\n",
       "Subtype of Property          object\n",
       "Bedrooms                    float64\n",
       "Living area (m²)            float64\n",
       "Kitchen type                 object\n",
       "How many fireplaces?        float64\n",
       "Terrace                     float64\n",
       "Terrace surface (m²)        float64\n",
       "Garden                      float64\n",
       "Garden surface (m²)         float64\n",
       "Surface of the plot (m²)    float64\n",
       "Number of frontages         float64\n",
       "Swimming pool                 int64\n",
       "Building condition           object\n",
       "Basement                      int64\n",
       "Energy class                 object\n",
       "Heating type                 object\n",
       "Kitchen type scale          float64\n",
       "Building condition scale    float64\n",
       "Region                       object\n",
       "dtype: object"
      ]
     },
     "execution_count": 7,
     "metadata": {},
     "output_type": "execute_result"
    }
   ],
   "source": [
    "df.dtypes"
   ]
  },
  {
   "cell_type": "code",
   "execution_count": 14,
   "id": "42e32a99",
   "metadata": {},
   "outputs": [],
   "source": [
    "OH_encoder = load('Encoded.pkl') # load and reuse the model"
   ]
  },
  {
   "cell_type": "code",
   "execution_count": 10,
   "id": "844b74b0",
   "metadata": {},
   "outputs": [],
   "source": [
    "object_cols = ['Type of Property', 'Subtype of Property', 'Kitchen type',\n",
    "       'Building condition', 'Energy class', 'Heating type', 'Region']\n",
    "OH_cols = pd.DataFrame(OH_encoder.transform(df[object_cols]))\n",
    "OH_cols.index = df.index\n",
    "OH_cols.columns = OH_encoder.get_feature_names_out()\n",
    "df = df.drop(object_cols, axis=1)\n",
    "df = pd.concat([df, OH_cols], axis=1)"
   ]
  },
  {
   "cell_type": "code",
   "execution_count": 11,
   "id": "2da2dcef",
   "metadata": {},
   "outputs": [],
   "source": [
    "df = df.drop(['Kitchen type_Empty', 'Building condition_Empty', \n",
    "            'Energy class_Empty', 'Heating type_Empty'], axis=1)"
   ]
  },
  {
   "cell_type": "code",
   "execution_count": 12,
   "id": "dac14a95",
   "metadata": {},
   "outputs": [
    {
     "name": "stdout",
     "output_type": "stream",
     "text": [
      "0    False\n",
      "Name: Garden surface (m²), dtype: bool\n"
     ]
    }
   ],
   "source": [
    "filter_G = df[\"Garden surface (m²)\"] == 0\n",
    "print(filter_G)\n",
    "df.loc[~filter_G,'Garden'] = 1\n",
    "filter_T = df[\"Terrace surface (m²)\"] == 0\n",
    "df.loc[~filter_T,'Terrace'] = 1"
   ]
  },
  {
   "cell_type": "code",
   "execution_count": 13,
   "id": "eb628d01",
   "metadata": {},
   "outputs": [
    {
     "data": {
      "text/html": [
       "<div>\n",
       "<style scoped>\n",
       "    .dataframe tbody tr th:only-of-type {\n",
       "        vertical-align: middle;\n",
       "    }\n",
       "\n",
       "    .dataframe tbody tr th {\n",
       "        vertical-align: top;\n",
       "    }\n",
       "\n",
       "    .dataframe thead th {\n",
       "        text-align: right;\n",
       "    }\n",
       "</style>\n",
       "<table border=\"1\" class=\"dataframe\">\n",
       "  <thead>\n",
       "    <tr style=\"text-align: right;\">\n",
       "      <th></th>\n",
       "      <th>Bedrooms</th>\n",
       "      <th>Living area (m²)</th>\n",
       "      <th>How many fireplaces?</th>\n",
       "      <th>Terrace</th>\n",
       "      <th>Terrace surface (m²)</th>\n",
       "      <th>Garden</th>\n",
       "      <th>Garden surface (m²)</th>\n",
       "      <th>Surface of the plot (m²)</th>\n",
       "      <th>Number of frontages</th>\n",
       "      <th>Swimming pool</th>\n",
       "      <th>...</th>\n",
       "      <th>Heating type_Carbon</th>\n",
       "      <th>Heating type_Electric</th>\n",
       "      <th>Heating type_Fuel oil</th>\n",
       "      <th>Heating type_Gas</th>\n",
       "      <th>Heating type_Pellet</th>\n",
       "      <th>Heating type_Solar</th>\n",
       "      <th>Heating type_Wood</th>\n",
       "      <th>Region_Brussels capital region</th>\n",
       "      <th>Region_Flander</th>\n",
       "      <th>Region_Walloon</th>\n",
       "    </tr>\n",
       "  </thead>\n",
       "  <tbody>\n",
       "    <tr>\n",
       "      <th>0</th>\n",
       "      <td>2.0</td>\n",
       "      <td>50.0</td>\n",
       "      <td>1.0</td>\n",
       "      <td>1.0</td>\n",
       "      <td>50.0</td>\n",
       "      <td>1.0</td>\n",
       "      <td>150.0</td>\n",
       "      <td>0.0</td>\n",
       "      <td>0.0</td>\n",
       "      <td>0</td>\n",
       "      <td>...</td>\n",
       "      <td>0.0</td>\n",
       "      <td>0.0</td>\n",
       "      <td>0.0</td>\n",
       "      <td>0.0</td>\n",
       "      <td>0.0</td>\n",
       "      <td>0.0</td>\n",
       "      <td>0.0</td>\n",
       "      <td>0.0</td>\n",
       "      <td>1.0</td>\n",
       "      <td>0.0</td>\n",
       "    </tr>\n",
       "  </tbody>\n",
       "</table>\n",
       "<p>1 rows × 80 columns</p>\n",
       "</div>"
      ],
      "text/plain": [
       "   Bedrooms  Living area (m²)  How many fireplaces?  Terrace  \\\n",
       "0       2.0              50.0                   1.0      1.0   \n",
       "\n",
       "   Terrace surface (m²)  Garden  Garden surface (m²)  \\\n",
       "0                  50.0     1.0                150.0   \n",
       "\n",
       "   Surface of the plot (m²)  Number of frontages  Swimming pool  ...  \\\n",
       "0                       0.0                  0.0              0  ...   \n",
       "\n",
       "   Heating type_Carbon  Heating type_Electric  Heating type_Fuel oil  \\\n",
       "0                  0.0                    0.0                    0.0   \n",
       "\n",
       "   Heating type_Gas  Heating type_Pellet  Heating type_Solar  \\\n",
       "0               0.0                  0.0                 0.0   \n",
       "\n",
       "   Heating type_Wood  Region_Brussels capital region  Region_Flander  \\\n",
       "0                0.0                             0.0             1.0   \n",
       "\n",
       "   Region_Walloon  \n",
       "0             0.0  \n",
       "\n",
       "[1 rows x 80 columns]"
      ]
     },
     "execution_count": 13,
     "metadata": {},
     "output_type": "execute_result"
    }
   ],
   "source": [
    "#df.to_csv(\"afterprocess.csv\")\n",
    "df"
   ]
  },
  {
   "cell_type": "code",
   "execution_count": null,
   "id": "c8cdac98",
   "metadata": {},
   "outputs": [],
   "source": [
    "reg = load('./model/Reg_model.pkl') # load and reuse the model\n",
    "y_pred = reg.predict(df)\n",
    "print(round(y_pred[0],2))"
   ]
  }
 ],
 "metadata": {
  "kernelspec": {
   "display_name": "Python 3 (ipykernel)",
   "language": "python",
   "name": "python3"
  },
  "language_info": {
   "codemirror_mode": {
    "name": "ipython",
    "version": 3
   },
   "file_extension": ".py",
   "mimetype": "text/x-python",
   "name": "python",
   "nbconvert_exporter": "python",
   "pygments_lexer": "ipython3",
   "version": "3.10.6"
  }
 },
 "nbformat": 4,
 "nbformat_minor": 5
}
